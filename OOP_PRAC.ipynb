{
  "nbformat": 4,
  "nbformat_minor": 0,
  "metadata": {
    "colab": {
      "provenance": []
    },
    "kernelspec": {
      "name": "python3",
      "display_name": "Python 3"
    },
    "language_info": {
      "name": "python"
    }
  },
  "cells": [
    {
      "cell_type": "markdown",
      "source": [
        "### 26th July"
      ],
      "metadata": {
        "id": "RlELqIa8D2Qm"
      }
    },
    {
      "cell_type": "markdown",
      "source": [
        "# OOP"
      ],
      "metadata": {
        "id": "B2z__9gvVsdp"
      }
    },
    {
      "cell_type": "markdown",
      "source": [
        "Question 1: Implement a Custom Linked List\n",
        "\n",
        "Description: Implement a singly linked list with methods to insert a node at the end, delete a node by value, and find a node by value."
      ],
      "metadata": {
        "id": "U2zZwwkMXFYe"
      }
    },
    {
      "cell_type": "code",
      "source": [
        "class Node:\n",
        "    def __init__(self, data):\n",
        "        self.data = data\n",
        "        self.next = None\n",
        "\n",
        "class LinkedList:\n",
        "    def __init__(self):\n",
        "        self.head = None\n",
        "\n",
        "    # Inserting a node at the beginning of the linked list\n",
        "    def insertAtBeginning(self, newdata):\n",
        "        new_node = Node(newdata)\n",
        "        new_node.next = self.head\n",
        "        self.head = new_node\n",
        "\n",
        "    def printList(self):\n",
        "        temp = self.head\n",
        "        while temp:\n",
        "            print(temp.data, end=' ')\n",
        "            temp = temp.next\n",
        "        print()\n",
        "\n",
        "if __name__ == '__main__':\n",
        "\n",
        "    llist = LinkedList()\n",
        "\n",
        "    llist.insertAtBeginning(0)\n",
        "    llist.insertAtBeginning(9)\n",
        "    llist.insertAtBeginning(4)\n",
        "    llist.insertAtBeginning(3)\n",
        "\n",
        "\n",
        "    # Print the list\n",
        "    llist.printList()\n"
      ],
      "metadata": {
        "colab": {
          "base_uri": "https://localhost:8080/"
        },
        "id": "7gD8sPn2-I8k",
        "outputId": "7cdbaa00-6dca-4b80-cba2-976495b070bf"
      },
      "execution_count": 15,
      "outputs": [
        {
          "output_type": "stream",
          "name": "stdout",
          "text": [
            "3 4 9 0 \n"
          ]
        }
      ]
    },
    {
      "cell_type": "code",
      "source": [
        "class Node:\n",
        "    def __init__(self, value: int):\n",
        "        self.value = value\n",
        "        self.next = None\n",
        "\n",
        "class LinkedList:\n",
        "    def __init__(self):\n",
        "        self.head = None\n",
        "\n",
        "    def insert(self, newvalue: int) -> None:\n",
        "        newnode = Node(newvalue)\n",
        "        newnode.next = self.head\n",
        "        self.head = newnode\n",
        "        pass\n",
        "\n",
        "    def delete(self, value: int) -> bool:\n",
        "\n",
        "        pass\n",
        "\n",
        "    def find(self, value: int) -> bool:\n",
        "        pass\n"
      ],
      "metadata": {
        "id": "Q_YKJowiUcLs"
      },
      "execution_count": 16,
      "outputs": []
    },
    {
      "cell_type": "code",
      "source": [
        "# Test Case 1\n",
        "ll = LinkedList()\n",
        "ll.insert(1)\n",
        "ll.insert(2)\n",
        "ll.insert(3)\n",
        "\n",
        "\n",
        "# Test Case 2\n",
        "ll.insert(4)\n",
        "ll.insert(5)\n"
      ],
      "metadata": {
        "id": "NB6ig6Xkb_pE"
      },
      "execution_count": 17,
      "outputs": []
    },
    {
      "cell_type": "markdown",
      "source": [
        "Question 2: Implement a Complex Number Class\n",
        "\n",
        "Description: Implement a class ComplexNumber that supports addition, subtraction, multiplication, and division of complex numbers."
      ],
      "metadata": {
        "id": "8-R1gpDNcKSr"
      }
    },
    {
      "cell_type": "code",
      "source": [
        "class ComplexNumber:\n",
        "    def __init__(self, real: float, imag: float):\n",
        "        self.real = real\n",
        "        self.imag = imag\n",
        "\n",
        "    def __add__(self, other: 'ComplexNumber') -> 'ComplexNumber':\n",
        "        real_no = self.real + other.real\n",
        "        imag_no = self.imag + other.imag\n",
        "        return ComplexNumber(real_no, imag_no)\n",
        "\n",
        "    def __sub__(self, other: 'ComplexNumber') -> 'ComplexNumber':\n",
        "        real_no = self.real - other.real\n",
        "        imag_no = self.imag - other.imag\n",
        "        return ComplexNumber(real_no, imag_no)\n",
        "\n",
        "    def __mul__(self, other: 'ComplexNumber') -> 'ComplexNumber':\n",
        "        real_no = self.real * other.real - self.imag * other.imag\n",
        "        imag_no = self.real * other.imag + self.imag * other.real\n",
        "        return ComplexNumber(real_no, imag_no)\n",
        "\n",
        "    def __truediv__(self, other: 'ComplexNumber') -> 'ComplexNumber':\n",
        "        denominator = other.real ** 2 + other.imag ** 2\n",
        "        real_no = (self.real * other.real + self.imag * other.imag) / denominator\n",
        "        imag_no = (self.imag * other.real - self.real * other.imag) / denominator\n",
        "        return ComplexNumber(real_no, imag_no)\n",
        "\n",
        "    def __str__(self) -> str:\n",
        "        real_str = f\"{self.real:.1f}\"\n",
        "        imag_str = f\"{self.imag:.1f}\"\n",
        "        if self.imag < 0:\n",
        "            return f\"{real_str} - {abs(self.imag):.1f}i\"\n",
        "        return f\"{real_str} + {self.imag:.1f}i\"\n"
      ],
      "metadata": {
        "id": "RjfrnrKFuHpx"
      },
      "execution_count": 21,
      "outputs": []
    },
    {
      "cell_type": "code",
      "source": [
        "c1 = ComplexNumber(1, 2)\n",
        "c2 = ComplexNumber(3, 4)\n",
        "\n",
        "assert str(c1 + c2) == \"4.0 + 6.0i\"      # (1 + 3) + (2 + 4)i = 4.0 + 6.0i\n",
        "assert str(c1 - c2) == \"-2.0 - 2.0i\"     # (1 - 3) + (2 - 4)i = -2.0 - 2.0i\n",
        "assert str(c1 * c2) == \"-5.0 + 10.0i\"    # (1*3 - 2*4) + (1*4 + 2*3)i = -5.0 + 10.0i\n",
        "\n",
        "c3 = ComplexNumber(2, 3)\n",
        "c4 = ComplexNumber(1, -1)\n",
        "\n",
        "assert str(c3 + c4) == \"3.0 + 2.0i\"      # (2 + 1) + (3 - 1)i = 3.0 + 2.0i\n",
        "assert str(c3 - c4) == \"1.0 + 4.0i\"      # (2 - 1) + (3 - (-1))i = 1.0 + 4.0i\n",
        "assert str(c3 * c4) == \"5.0 + 1.0i\"      # (2*1 - 3*(-1)) + (2*(-1) + 3*1)i = 5.0 + 1.0i\n"
      ],
      "metadata": {
        "id": "U-yAmgkGcQAB"
      },
      "execution_count": 23,
      "outputs": []
    },
    {
      "cell_type": "markdown",
      "source": [
        "Question 3: Implement a Bank Account Class\n",
        "\n",
        "Description: Implement a BankAccount class that encapsulates the balance of an account. The class should provide methods to deposit, withdraw, and check the balance. Ensure the balance cannot be directly accessed or modified."
      ],
      "metadata": {
        "id": "9gwJ87QgcbMO"
      }
    },
    {
      "cell_type": "code",
      "source": [
        "class BankAccount:\n",
        "    def __init__(self, initial_balance: float):\n",
        "        self.__balance = initial_balance\n",
        "\n",
        "    def deposit(self, amount: float) -> None:\n",
        "        if amount > 0:\n",
        "          self.__balance += amount\n",
        "        else:\n",
        "          raise ValueError(\"GIve only positive value got deposit\")\n",
        "\n",
        "    def withdraw(self, amount: float) -> bool:\n",
        "        if 0 < amount <= self.__balance:\n",
        "          self.__balance -= amount\n",
        "          return True\n",
        "        else:\n",
        "          return False\n",
        "\n",
        "    def get_balance(self) -> float:\n",
        "        return self.__balance\n"
      ],
      "metadata": {
        "id": "NplIpOylcsnq"
      },
      "execution_count": 25,
      "outputs": []
    },
    {
      "cell_type": "code",
      "source": [
        "# Test Case 1\n",
        "account = BankAccount(1000)\n",
        "account.deposit(500)\n",
        "assert account.get_balance() == 1500\n",
        "assert account.withdraw(200) == True\n",
        "assert account.get_balance() == 1300\n",
        "\n",
        "# Test Case 2\n",
        "account.deposit(300)\n",
        "assert account.get_balance() == 1600\n",
        "assert account.withdraw(2000) == False\n",
        "assert account.get_balance() == 1600"
      ],
      "metadata": {
        "id": "69MGRrhpcuSy"
      },
      "execution_count": 26,
      "outputs": []
    },
    {
      "cell_type": "markdown",
      "source": [
        "Question 4: Implement a Shape Class Hierarchy\n",
        "\n",
        "Description: Implement an abstract base class Shape with an abstract method area. Create subclasses Circle and Rectangle that implement the area method. Use polymorphism to calculate the area of different shapes."
      ],
      "metadata": {
        "id": "87gKK8Z1czG9"
      }
    },
    {
      "cell_type": "code",
      "source": [
        "from abc import ABC, abstractmethod\n",
        "import math\n",
        "\n",
        "class Shape(ABC):\n",
        "    @abstractmethod\n",
        "    def area(self) -> float:\n",
        "        pass\n",
        "\n",
        "class Circle(Shape):\n",
        "    def __init__(self, radius: float):\n",
        "        self.radius = radius\n",
        "\n",
        "    def area(self) -> float:\n",
        "        return math.pi * (self.radius ** 2)\n",
        "\n",
        "class Rectangle(Shape):\n",
        "    def __init__(self, width: float, height: float):\n",
        "        self.width = width\n",
        "        self.height = height\n",
        "\n",
        "    def area(self) -> float:\n",
        "        return self.width * self.height"
      ],
      "metadata": {
        "id": "Vvkov9xMcyZB"
      },
      "execution_count": 29,
      "outputs": []
    },
    {
      "cell_type": "code",
      "source": [
        "# Test Case 1\n",
        "shapes = [Circle(5), Rectangle(4, 6)]\n",
        "areas = [shape.area() for shape in shapes]\n",
        "assert areas == [math.pi * 25, 24]\n",
        "\n",
        "# Test Case 2\n",
        "shapes = [Circle(3), Rectangle(3, 7)]\n",
        "areas = [shape.area() for shape in shapes]\n",
        "assert areas == [math.pi * 9, 21]"
      ],
      "metadata": {
        "id": "3m5HtN_zc5cD"
      },
      "execution_count": 30,
      "outputs": []
    },
    {
      "cell_type": "code",
      "source": [],
      "metadata": {
        "id": "6xhrIoyX7cVJ"
      },
      "execution_count": null,
      "outputs": []
    }
  ]
}